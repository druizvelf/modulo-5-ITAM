{
 "cells": [
  {
   "cell_type": "markdown",
   "metadata": {
    "colab_type": "text",
    "id": "aoIyL8UOMjZy"
   },
   "source": [
    "# Tarea -  MNIST"
   ]
  },
  {
   "cell_type": "markdown",
   "metadata": {
    "colab_type": "text",
    "id": "B4R1OwXmOTUy"
   },
   "source": [
    "### Cargas"
   ]
  },
  {
   "cell_type": "code",
   "execution_count": 5,
   "metadata": {},
   "outputs": [
    {
     "name": "stdout",
     "output_type": "stream",
     "text": [
      "Collecting seaborn\n",
      "  Downloading seaborn-0.10.1-py3-none-any.whl (215 kB)\n",
      "Collecting matplotlib>=2.1.2\n",
      "  Downloading matplotlib-3.2.1-cp36-cp36m-win_amd64.whl (9.2 MB)\n",
      "Requirement already satisfied: numpy>=1.13.3 in c:\\users\\o61291\\appdata\\local\\continuum\\anaconda3\\envs\\tf\\lib\\site-packages (from seaborn) (1.18.1)\n",
      "Requirement already satisfied: scipy>=1.0.1 in c:\\users\\o61291\\appdata\\local\\continuum\\anaconda3\\envs\\tf\\lib\\site-packages (from seaborn) (1.4.1)\n",
      "Collecting pandas>=0.22.0\n",
      "  Downloading pandas-1.0.4-cp36-cp36m-win_amd64.whl (8.7 MB)\n",
      "Collecting kiwisolver>=1.0.1\n",
      "  Downloading kiwisolver-1.2.0-cp36-none-win_amd64.whl (57 kB)\n",
      "Collecting cycler>=0.10\n",
      "  Downloading cycler-0.10.0-py2.py3-none-any.whl (6.5 kB)\n",
      "Collecting pyparsing!=2.0.4,!=2.1.2,!=2.1.6,>=2.0.1\n",
      "  Downloading pyparsing-2.4.7-py2.py3-none-any.whl (67 kB)\n",
      "Requirement already satisfied: python-dateutil>=2.1 in c:\\users\\o61291\\appdata\\local\\continuum\\anaconda3\\envs\\tf\\lib\\site-packages (from matplotlib>=2.1.2->seaborn) (2.8.1)\n",
      "Collecting pytz>=2017.2\n",
      "  Downloading pytz-2020.1-py2.py3-none-any.whl (510 kB)\n",
      "Requirement already satisfied: six in c:\\users\\o61291\\appdata\\local\\continuum\\anaconda3\\envs\\tf\\lib\\site-packages (from cycler>=0.10->matplotlib>=2.1.2->seaborn) (1.14.0)\n",
      "Installing collected packages: kiwisolver, cycler, pyparsing, matplotlib, pytz, pandas, seaborn\n",
      "Successfully installed cycler-0.10.0 kiwisolver-1.2.0 matplotlib-3.2.1 pandas-1.0.4 pyparsing-2.4.7 pytz-2020.1 seaborn-0.10.1\n"
     ]
    }
   ],
   "source": [
    "!pip install seaborn "
   ]
  },
  {
   "cell_type": "code",
   "execution_count": 18,
   "metadata": {
    "colab": {},
    "colab_type": "code",
    "id": "R8YSY4a-pebW"
   },
   "outputs": [],
   "source": [
    "import numpy as np\n",
    "import datetime\n",
    "import tensorflow as tf\n",
    "from tensorflow.keras.datasets import fashion_mnist\n",
    "from keras.datasets import mnist"
   ]
  },
  {
   "cell_type": "code",
   "execution_count": 20,
   "metadata": {
    "colab": {},
    "colab_type": "code",
    "id": "SDafDke-8ZTu"
   },
   "outputs": [],
   "source": [
    "from tensorflow.keras.models import Model, Sequential\n",
    "from tensorflow.keras.layers import Input, Dense, Flatten, Dropout, MaxPool2D, Conv2D,Reshape"
   ]
  },
  {
   "cell_type": "code",
   "execution_count": 21,
   "metadata": {
    "colab": {},
    "colab_type": "code",
    "id": "bNVkIBh5ctP_"
   },
   "outputs": [],
   "source": [
    "import seaborn as sns\n",
    "import matplotlib.pyplot as plt"
   ]
  },
  {
   "cell_type": "code",
   "execution_count": 22,
   "metadata": {
    "colab": {},
    "colab_type": "code",
    "id": "JDLEG2YUmRK4"
   },
   "outputs": [],
   "source": [
    "import warnings\n",
    "warnings.filterwarnings('ignore')\n",
    "from keras.utils import np_utils\n",
    "\n",
    "np.random.seed(123) "
   ]
  },
  {
   "cell_type": "code",
   "execution_count": 23,
   "metadata": {
    "colab": {
     "base_uri": "https://localhost:8080/",
     "height": 153
    },
    "colab_type": "code",
    "executionInfo": {
     "elapsed": 2127,
     "status": "ok",
     "timestamp": 1591155651348,
     "user": {
      "displayName": "Felix Martinez",
      "photoUrl": "",
      "userId": "05116599533936093867"
     },
     "user_tz": 300
    },
    "id": "Cx4toe-Opg7q",
    "outputId": "b3b2e881-eedf-4cac-891f-87ecb4ac962a"
   },
   "outputs": [],
   "source": [
    "#datos\n",
    "(X_train, y_train), (X_test, y_test) = fashion_mnist.load_data()"
   ]
  },
  {
   "cell_type": "code",
   "execution_count": 24,
   "metadata": {
    "colab": {},
    "colab_type": "code",
    "id": "htEuD0d_pyCh"
   },
   "outputs": [],
   "source": [
    "#Estandarización\n",
    "maximo = X_train.max()\n",
    "\n",
    "X_test = X_test / maximo\n",
    "\n",
    "X_train = X_train / maximo\n"
   ]
  },
  {
   "cell_type": "code",
   "execution_count": 25,
   "metadata": {
    "colab": {},
    "colab_type": "code",
    "id": "7DHxG56IGOUS"
   },
   "outputs": [],
   "source": [
    "def my_nn(activation=\"relu\", optimizer=\"adam\", layers=(100, 200,100,50)):\n",
    "  Xin = Input(shape=(28, 28))\n",
    "  X = Flatten()(Xin)\n",
    "  for layer in layers:\n",
    "    X = Dense(layer, activation=activation)(X)\n",
    "    X = Dropout(.5)(X)\n",
    "\n",
    "  X = Dense(10, activation=\"softmax\")(X)\n",
    "\n",
    "  model = Model(inputs=Xin, outputs=X)\n",
    "\n",
    "  model.compile(optimizer=optimizer,\n",
    "              loss=\"sparse_categorical_crossentropy\",\n",
    "              metrics=[\"accuracy\"])\n",
    "  model.summary()\n",
    "  return model"
   ]
  },
  {
   "cell_type": "code",
   "execution_count": 26,
   "metadata": {
    "colab": {
     "base_uri": "https://localhost:8080/",
     "height": 1000
    },
    "colab_type": "code",
    "executionInfo": {
     "elapsed": 874721,
     "status": "ok",
     "timestamp": 1591156535507,
     "user": {
      "displayName": "Felix Martinez",
      "photoUrl": "",
      "userId": "05116599533936093867"
     },
     "user_tz": 300
    },
    "id": "GHyx6CiG-tCr",
    "outputId": "b28c97c3-c951-407d-9b85-9f3068a94b9f"
   },
   "outputs": [
    {
     "name": "stdout",
     "output_type": "stream",
     "text": [
      "Model: \"model\"\n",
      "_________________________________________________________________\n",
      "Layer (type)                 Output Shape              Param #   \n",
      "=================================================================\n",
      "input_1 (InputLayer)         [(None, 28, 28)]          0         \n",
      "_________________________________________________________________\n",
      "flatten (Flatten)            (None, 784)               0         \n",
      "_________________________________________________________________\n",
      "dense (Dense)                (None, 350)               274750    \n",
      "_________________________________________________________________\n",
      "dropout (Dropout)            (None, 350)               0         \n",
      "_________________________________________________________________\n",
      "dense_1 (Dense)              (None, 350)               122850    \n",
      "_________________________________________________________________\n",
      "dropout_1 (Dropout)          (None, 350)               0         \n",
      "_________________________________________________________________\n",
      "dense_2 (Dense)              (None, 350)               122850    \n",
      "_________________________________________________________________\n",
      "dropout_2 (Dropout)          (None, 350)               0         \n",
      "_________________________________________________________________\n",
      "dense_3 (Dense)              (None, 350)               122850    \n",
      "_________________________________________________________________\n",
      "dropout_3 (Dropout)          (None, 350)               0         \n",
      "_________________________________________________________________\n",
      "dense_4 (Dense)              (None, 200)               70200     \n",
      "_________________________________________________________________\n",
      "dropout_4 (Dropout)          (None, 200)               0         \n",
      "_________________________________________________________________\n",
      "dense_5 (Dense)              (None, 100)               20100     \n",
      "_________________________________________________________________\n",
      "dropout_5 (Dropout)          (None, 100)               0         \n",
      "_________________________________________________________________\n",
      "dense_6 (Dense)              (None, 10)                1010      \n",
      "=================================================================\n",
      "Total params: 734,610\n",
      "Trainable params: 734,610\n",
      "Non-trainable params: 0\n",
      "_________________________________________________________________\n",
      "Train on 60000 samples\n",
      "Epoch 1/60\n",
      "60000/60000 [==============================] - 22s 374us/sample - loss: 1.1531 - accuracy: 0.5531\n",
      "Epoch 2/60\n",
      "60000/60000 [==============================] - 21s 354us/sample - loss: 0.7745 - accuracy: 0.7007\n",
      "Epoch 3/60\n",
      "60000/60000 [==============================] - 20s 326us/sample - loss: 0.7300 - accuracy: 0.7162\n",
      "Epoch 4/60\n",
      "60000/60000 [==============================] - 20s 337us/sample - loss: 0.7024 - accuracy: 0.7249\n",
      "Epoch 5/60\n",
      "60000/60000 [==============================] - 21s 343us/sample - loss: 0.6812 - accuracy: 0.7388\n",
      "Epoch 6/60\n",
      "60000/60000 [==============================] - 20s 329us/sample - loss: 0.6737 - accuracy: 0.7426\n",
      "Epoch 7/60\n",
      "60000/60000 [==============================] - 23s 378us/sample - loss: 0.6543 - accuracy: 0.7471- loss: 0.6547 \n",
      "Epoch 8/60\n",
      "60000/60000 [==============================] - 23s 385us/sample - loss: 0.6471 - accuracy: 0.7576\n",
      "Epoch 9/60\n",
      "60000/60000 [==============================] - 22s 374us/sample - loss: 0.6399 - accuracy: 0.7657\n",
      "Epoch 10/60\n",
      "60000/60000 [==============================] - 22s 370us/sample - loss: 0.6328 - accuracy: 0.7738\n",
      "Epoch 11/60\n",
      "60000/60000 [==============================] - 22s 359us/sample - loss: 0.6154 - accuracy: 0.7827\n",
      "Epoch 12/60\n",
      "60000/60000 [==============================] - 22s 365us/sample - loss: 0.6047 - accuracy: 0.7834\n",
      "Epoch 13/60\n",
      "60000/60000 [==============================] - 21s 347us/sample - loss: 0.6082 - accuracy: 0.7882\n",
      "Epoch 14/60\n",
      "60000/60000 [==============================] - 21s 349us/sample - loss: 0.6108 - accuracy: 0.7897- loss: 0.6112 - accuracy: \n",
      "Epoch 15/60\n",
      "60000/60000 [==============================] - 21s 343us/sample - loss: 0.6076 - accuracy: 0.7844\n",
      "Epoch 16/60\n",
      "60000/60000 [==============================] - 20s 331us/sample - loss: 0.5999 - accuracy: 0.7864\n",
      "Epoch 17/60\n",
      "60000/60000 [==============================] - 20s 336us/sample - loss: 0.5949 - accuracy: 0.7908- l\n",
      "Epoch 18/60\n",
      "60000/60000 [==============================] - 20s 332us/sample - loss: 0.5877 - accuracy: 0.7941\n",
      "Epoch 19/60\n",
      "60000/60000 [==============================] - 20s 335us/sample - loss: 0.5930 - accuracy: 0.7940\n",
      "Epoch 20/60\n",
      "60000/60000 [==============================] - 20s 341us/sample - loss: 0.5863 - accuracy: 0.7960\n",
      "Epoch 21/60\n",
      "60000/60000 [==============================] - 20s 326us/sample - loss: 0.5836 - accuracy: 0.7962\n",
      "Epoch 22/60\n",
      "60000/60000 [==============================] - 20s 331us/sample - loss: 0.5894 - accuracy: 0.7961\n",
      "Epoch 23/60\n",
      "60000/60000 [==============================] - 20s 339us/sample - loss: 0.5807 - accuracy: 0.7978\n",
      "Epoch 24/60\n",
      "60000/60000 [==============================] - 20s 338us/sample - loss: 0.5821 - accuracy: 0.7999\n",
      "Epoch 25/60\n",
      "60000/60000 [==============================] - 20s 327us/sample - loss: 0.5961 - accuracy: 0.7907\n",
      "Epoch 26/60\n",
      "60000/60000 [==============================] - 20s 336us/sample - loss: 0.5844 - accuracy: 0.7965\n",
      "Epoch 27/60\n",
      "60000/60000 [==============================] - 20s 329us/sample - loss: 0.5848 - accuracy: 0.7978\n",
      "Epoch 28/60\n",
      "60000/60000 [==============================] - 20s 329us/sample - loss: 0.5786 - accuracy: 0.8013\n",
      "Epoch 29/60\n",
      "60000/60000 [==============================] - 20s 339us/sample - loss: 0.5776 - accuracy: 0.8018\n",
      "Epoch 30/60\n",
      "60000/60000 [==============================] - 20s 330us/sample - loss: 0.5878 - accuracy: 0.8017\n",
      "Epoch 31/60\n",
      "60000/60000 [==============================] - 20s 332us/sample - loss: 0.5890 - accuracy: 0.7968- los\n",
      "Epoch 32/60\n",
      "60000/60000 [==============================] - 20s 339us/sample - loss: 0.5811 - accuracy: 0.8028\n",
      "Epoch 33/60\n",
      "60000/60000 [==============================] - 20s 330us/sample - loss: 0.5765 - accuracy: 0.8026\n",
      "Epoch 34/60\n",
      "60000/60000 [==============================] - 20s 328us/sample - loss: 0.5739 - accuracy: 0.8059\n",
      "Epoch 35/60\n",
      "60000/60000 [==============================] - 21s 342us/sample - loss: 0.5918 - accuracy: 0.8012\n",
      "Epoch 36/60\n",
      "60000/60000 [==============================] - 20s 340us/sample - loss: 0.5722 - accuracy: 0.8045\n",
      "Epoch 37/60\n",
      "60000/60000 [==============================] - 21s 347us/sample - loss: 0.5784 - accuracy: 0.8019\n",
      "Epoch 38/60\n",
      "60000/60000 [==============================] - 20s 340us/sample - loss: 0.5764 - accuracy: 0.8045\n",
      "Epoch 39/60\n",
      "60000/60000 [==============================] - 20s 336us/sample - loss: 0.5769 - accuracy: 0.8029\n",
      "Epoch 40/60\n",
      "60000/60000 [==============================] - 20s 330us/sample - loss: 0.5754 - accuracy: 0.8013\n",
      "Epoch 41/60\n",
      "60000/60000 [==============================] - 21s 343us/sample - loss: 0.5584 - accuracy: 0.8085\n",
      "Epoch 42/60\n",
      "60000/60000 [==============================] - 20s 332us/sample - loss: 0.5739 - accuracy: 0.8036\n",
      "Epoch 43/60\n",
      "60000/60000 [==============================] - 20s 337us/sample - loss: 0.5899 - accuracy: 0.8000\n",
      "Epoch 44/60\n",
      "60000/60000 [==============================] - 21s 348us/sample - loss: 0.5723 - accuracy: 0.8052\n",
      "Epoch 45/60\n",
      "60000/60000 [==============================] - 20s 337us/sample - loss: 0.5606 - accuracy: 0.8092\n",
      "Epoch 46/60\n",
      "60000/60000 [==============================] - 20s 330us/sample - loss: 0.5700 - accuracy: 0.8068\n",
      "Epoch 47/60\n",
      "60000/60000 [==============================] - 20s 332us/sample - loss: 0.5770 - accuracy: 0.8055\n",
      "Epoch 48/60\n",
      "60000/60000 [==============================] - 21s 342us/sample - loss: 0.5777 - accuracy: 0.8046\n",
      "Epoch 49/60\n",
      "60000/60000 [==============================] - 20s 330us/sample - loss: 0.5749 - accuracy: 0.8024\n",
      "Epoch 50/60\n",
      "60000/60000 [==============================] - 20s 330us/sample - loss: 0.5790 - accuracy: 0.8066\n",
      "Epoch 51/60\n",
      "60000/60000 [==============================] - 21s 343us/sample - loss: 0.5671 - accuracy: 0.8103\n",
      "Epoch 52/60\n",
      "60000/60000 [==============================] - 20s 340us/sample - loss: 0.5748 - accuracy: 0.8094\n",
      "Epoch 53/60\n"
     ]
    },
    {
     "name": "stdout",
     "output_type": "stream",
     "text": [
      "60000/60000 [==============================] - 20s 328us/sample - loss: 0.5657 - accuracy: 0.8124\n",
      "Epoch 54/60\n",
      "60000/60000 [==============================] - 21s 344us/sample - loss: 0.5787 - accuracy: 0.8074\n",
      "Epoch 55/60\n",
      "60000/60000 [==============================] - 21s 349us/sample - loss: 0.5726 - accuracy: 0.8058\n",
      "Epoch 56/60\n",
      "60000/60000 [==============================] - 20s 327us/sample - loss: 0.5818 - accuracy: 0.8043\n",
      "Epoch 57/60\n",
      "60000/60000 [==============================] - 20s 337us/sample - loss: 0.5715 - accuracy: 0.8061\n",
      "Epoch 58/60\n",
      "60000/60000 [==============================] - 20s 333us/sample - loss: 0.5746 - accuracy: 0.8046\n",
      "Epoch 59/60\n",
      "60000/60000 [==============================] - 21s 344us/sample - loss: 0.5756 - accuracy: 0.8071\n",
      "Epoch 60/60\n",
      "60000/60000 [==============================] - 21s 343us/sample - loss: 0.5794 - accuracy: 0.8055\n"
     ]
    },
    {
     "data": {
      "text/plain": [
       "<tensorflow.python.keras.callbacks.History at 0x10a914bb898>"
      ]
     },
     "execution_count": 26,
     "metadata": {},
     "output_type": "execute_result"
    }
   ],
   "source": [
    "tf.keras.backend.clear_session()\n",
    "model = my_nn(layers=(350,350,350,350,200,100),optimizer=\"adam\")\n",
    "model.fit(X_train, y_train, epochs=60,batch_size=32)"
   ]
  },
  {
   "cell_type": "code",
   "execution_count": 27,
   "metadata": {
    "colab": {
     "base_uri": "https://localhost:8080/",
     "height": 51
    },
    "colab_type": "code",
    "executionInfo": {
     "elapsed": 1584,
     "status": "ok",
     "timestamp": 1591156712721,
     "user": {
      "displayName": "Felix Martinez",
      "photoUrl": "",
      "userId": "05116599533936093867"
     },
     "user_tz": 300
    },
    "id": "rT5n1XDR-s_6",
    "outputId": "59784608-0fa2-4527-ae12-cd64f09c3301"
   },
   "outputs": [
    {
     "name": "stdout",
     "output_type": "stream",
     "text": [
      "10000/10000 [==============================] - 2s 172us/sample - loss: 0.5465 - accuracy: 0.8128\n",
      "M1 - Test accuracy: 0.8784\n"
     ]
    }
   ],
   "source": [
    "test_loss, test_accuracy = model.evaluate(X_test, y_test)\n",
    "print(\"M1 - Test accuracy: {:.4f}\".format(m1_test_accuracy))"
   ]
  },
  {
   "cell_type": "code",
   "execution_count": 16,
   "metadata": {
    "colab": {
     "base_uri": "https://localhost:8080/",
     "height": 204
    },
    "colab_type": "code",
    "executionInfo": {
     "elapsed": 1329,
     "status": "ok",
     "timestamp": 1591156725672,
     "user": {
      "displayName": "Felix Martinez",
      "photoUrl": "",
      "userId": "05116599533936093867"
     },
     "user_tz": 300
    },
    "id": "YaVTGgEU-1zO",
    "outputId": "eef86beb-64a8-4f76-f8fd-aa9acf415f67"
   },
   "outputs": [],
   "source": [
    "y_pred=np.argmax(model.predict(X_test), axis=-1)\n",
    "con_mat = tf.math.confusion_matrix(labels=y_test, predictions=y_pred)"
   ]
  },
  {
   "cell_type": "code",
   "execution_count": 17,
   "metadata": {},
   "outputs": [
    {
     "data": {
      "text/plain": [
       "<function matplotlib.pyplot.show(*args, **kw)>"
      ]
     },
     "execution_count": 17,
     "metadata": {},
     "output_type": "execute_result"
    },
    {
     "data": {
      "image/png": "[encoded data removed]",
      "text/plain": [
       "<Figure size 1080x576 with 2 Axes>"
      ]
     },
     "metadata": {
      "needs_background": "light"
     },
     "output_type": "display_data"
    }
   ],
   "source": [
    "figure = plt.figure(figsize=(15,8))\n",
    "sns.heatmap(con_mat, annot=True, cmap=plt.cm.Blues, fmt=\"d\")\n",
    "plt.tight_layout()\n",
    "plt.ylabel('True Values')\n",
    "plt.xlabel('Predict')\n",
    "plt.show"
   ]
  }
 ],
 "metadata": {
  "colab": {
   "authorship_tag": "ABX9TyOvJECbgNaMxqpchXXlVQWV",
   "collapsed_sections": [],
   "mount_file_id": "1iKa2KbJH14C0t_oL2zatQDnqY_otbu4r",
   "name": "Tarea_Mod5_nn.ipynb",
   "provenance": [
    {
     "file_id": "1iKa2KbJH14C0t_oL2zatQDnqY_otbu4r",
     "timestamp": 1591065811446
    }
   ],
   "toc_visible": true
  },
  "kernelspec": {
   "display_name": "Python 3",
   "language": "python",
   "name": "python3"
  },
  "language_info": {
   "codemirror_mode": {
    "name": "ipython",
    "version": 3
   },
   "file_extension": ".py",
   "mimetype": "text/x-python",
   "name": "python",
   "nbconvert_exporter": "python",
   "pygments_lexer": "ipython3",
   "version": "3.6.10"
  }
 },
 "nbformat": 4,
 "nbformat_minor": 1
}
